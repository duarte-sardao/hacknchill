{
 "cells": [
  {
   "cell_type": "code",
   "execution_count": 1,
   "metadata": {},
   "outputs": [
    {
     "name": "stdout",
     "output_type": "stream",
     "text": [
      "2.2.3\n"
     ]
    }
   ],
   "source": [
    "import pandas as pd\n",
    "import numpy as np\n",
    "print(pd. __version__)"
   ]
  },
  {
   "cell_type": "code",
   "execution_count": 2,
   "metadata": {},
   "outputs": [],
   "source": [
    "electricity_prices = pd.read_pickle(\"./spot-pricing-challenge-hackathon/Data/electricity_prices.pkl\")\n",
    "stock_prices = pd.read_pickle(\"./spot-pricing-challenge-hackathon/Data/stock_prices.pkl\")\n",
    "weather_data = pd.read_pickle(\"./spot-pricing-challenge-hackathon/Data/weather_data.pkl\")\n",
    "\n",
    "electricity_prices.to_csv(r'electricity_prices.csv')\n",
    "stock_prices.to_csv(r'stock_prices.csv')\n",
    "weather_data.to_csv(r'weather_data.csv')"
   ]
  }
 ],
 "metadata": {
  "kernelspec": {
   "display_name": "Python 3",
   "language": "python",
   "name": "python3"
  },
  "language_info": {
   "codemirror_mode": {
    "name": "ipython",
    "version": 3
   },
   "file_extension": ".py",
   "mimetype": "text/x-python",
   "name": "python",
   "nbconvert_exporter": "python",
   "pygments_lexer": "ipython3",
   "version": "3.12.1"
  }
 },
 "nbformat": 4,
 "nbformat_minor": 2
}
